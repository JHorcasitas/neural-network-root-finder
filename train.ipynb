{
 "cells": [
  {
   "cell_type": "code",
   "execution_count": 15,
   "metadata": {},
   "outputs": [],
   "source": [
    "import torch\n",
    "import numpy as np\n",
    "import torch.nn as nn\n",
    "import torch.optim as optim\n",
    "from torch.utils.data import DataLoader\n",
    "from torch.utils.tensorboard import SummaryWriter\n",
    "\n",
    "from models import Pi, Sigma\n",
    "from datasets import PiDataset, SigmaDataset\n",
    "from retrictions import get_F"
   ]
  },
  {
   "cell_type": "code",
   "execution_count": 16,
   "metadata": {},
   "outputs": [],
   "source": [
    "model = Pi(poly_order=3)\n",
    "model.w = torch.nn.Parameter(torch.tensor([0.5, 0.2, 0.6]))"
   ]
  },
  {
   "cell_type": "code",
   "execution_count": 22,
   "metadata": {},
   "outputs": [
    {
     "data": {
      "text/plain": [
       "array([[-1.  ,  0.8 , -0.12]], dtype=float32)"
      ]
     },
     "execution_count": 22,
     "metadata": {},
     "output_type": "execute_result"
    }
   ],
   "source": [
    "get_F(model.w, 0)"
   ]
  },
  {
   "cell_type": "code",
   "execution_count": 25,
   "metadata": {},
   "outputs": [
    {
     "data": {
      "text/plain": [
       "array([[-1.  ,  0.8 , -0.12]], dtype=float32)"
      ]
     },
     "execution_count": 25,
     "metadata": {},
     "output_type": "execute_result"
    }
   ],
   "source": [
    "x1 = get_F(model.w, 0)\n",
    "x1"
   ]
  },
  {
   "cell_type": "code",
   "execution_count": 27,
   "metadata": {},
   "outputs": [
    {
     "data": {
      "text/plain": [
       "array([[-1.  ,  0.8 , -0.12]])"
      ]
     },
     "execution_count": 27,
     "metadata": {},
     "output_type": "execute_result"
    }
   ],
   "source": [
    "x2 = np.array([[-1, 0.8, -0.12]])\n",
    "x2"
   ]
  },
  {
   "cell_type": "code",
   "execution_count": 34,
   "metadata": {},
   "outputs": [
    {
     "data": {
      "text/plain": [
       "True"
      ]
     },
     "execution_count": 34,
     "metadata": {},
     "output_type": "execute_result"
    }
   ],
   "source": [
    "np.allclose(x1, x2)"
   ]
  },
  {
   "cell_type": "code",
   "execution_count": null,
   "metadata": {},
   "outputs": [],
   "source": []
  },
  {
   "cell_type": "code",
   "execution_count": 33,
   "metadata": {},
   "outputs": [
    {
     "data": {
      "text/plain": [
       "array([[ True,  True, False]])"
      ]
     },
     "execution_count": 33,
     "metadata": {},
     "output_type": "execute_result"
    }
   ],
   "source": [
    "get_F(model.w, 0) == np.array([[-1, 0.8, -0.12]]).astype(np.float32)"
   ]
  },
  {
   "cell_type": "markdown",
   "metadata": {},
   "source": [
    "# Training PI Model"
   ]
  },
  {
   "cell_type": "code",
   "execution_count": 6,
   "metadata": {},
   "outputs": [],
   "source": [
    "# dataset = PiDataset(coeff=[1.0, 2.9, -0.8, -6.3, -3.6], size=2_048)\n",
    "# dataloader = DataLoader(dataset, batch_size=256, num_workers=2)\n",
    "# model = Pi(poly_order=4)"
   ]
  },
  {
   "cell_type": "code",
   "execution_count": 7,
   "metadata": {},
   "outputs": [],
   "source": [
    "# epochs = 5_000\n",
    "# optimizer = optim.Adam(model.parameters())\n",
    "# criterion = nn.MSELoss()\n",
    "# writer = SummaryWriter('./runs/PI-1')"
   ]
  },
  {
   "cell_type": "code",
   "execution_count": 8,
   "metadata": {
    "scrolled": false
   },
   "outputs": [],
   "source": [
    "# b = 1\n",
    "# for epoch in range(epochs):\n",
    "#     for input, target in dataloader:\n",
    "#         optimizer.zero_grad()\n",
    "#         output = model(input)\n",
    "#         loss = criterion(output, target)\n",
    "#         loss.backward()\n",
    "#         optimizer.step()\n",
    "#         writer.add_scalar('Loss', loss.item(), b)\n",
    "#         writer.add_scalar('W1', model.w[0, 0], b)\n",
    "#         writer.add_scalar('W2', model.w[0, 1], b)\n",
    "#         writer.add_scalar('W3', model.w[0, 2], b)\n",
    "#         writer.add_scalar('W4', model.w[0, 3], b)\n",
    "#         b += 1"
   ]
  },
  {
   "cell_type": "markdown",
   "metadata": {},
   "source": [
    "# Training Sigma Model"
   ]
  },
  {
   "cell_type": "code",
   "execution_count": 9,
   "metadata": {},
   "outputs": [],
   "source": [
    "# dataset = SigmaDataset(coeff=[1.0, 2.9, -0.8, -6.3, -3.6], size=2_048)\n",
    "# dataloader = DataLoader(dataset, batch_size=256, num_workers=2)\n",
    "# model = Sigma(poly_order=4)"
   ]
  },
  {
   "cell_type": "code",
   "execution_count": 10,
   "metadata": {},
   "outputs": [],
   "source": [
    "# epochs = 5_000\n",
    "# optimizer = optim.Adam(model.parameters())\n",
    "# criterion = nn.MSELoss()\n",
    "# writer = SummaryWriter('./runs/SIGMA-6')"
   ]
  },
  {
   "cell_type": "code",
   "execution_count": 11,
   "metadata": {},
   "outputs": [],
   "source": [
    "# b = 1\n",
    "# for epoch in range(epochs):\n",
    "#     for input, target in dataloader:\n",
    "#         optimizer.zero_grad()\n",
    "#         output = model(input)\n",
    "#         loss = criterion(output, target)\n",
    "#         loss.backward()\n",
    "#         optimizer.step()\n",
    "#         writer.add_scalar('Loss', loss.item(), b)\n",
    "#         writer.add_scalar('W1', model.w[0, 0], b)\n",
    "#         writer.add_scalar('W2', model.w[0, 1], b)\n",
    "#         writer.add_scalar('W3', model.w[0, 2], b)\n",
    "#         writer.add_scalar('W4', model.w[0, 3], b)\n",
    "#         b += 1"
   ]
  },
  {
   "cell_type": "code",
   "execution_count": null,
   "metadata": {},
   "outputs": [],
   "source": []
  }
 ],
 "metadata": {
  "kernelspec": {
   "display_name": "Python 3",
   "language": "python",
   "name": "python3"
  },
  "language_info": {
   "codemirror_mode": {
    "name": "ipython",
    "version": 3
   },
   "file_extension": ".py",
   "mimetype": "text/x-python",
   "name": "python",
   "nbconvert_exporter": "python",
   "pygments_lexer": "ipython3",
   "version": "3.7.5"
  }
 },
 "nbformat": 4,
 "nbformat_minor": 2
}
